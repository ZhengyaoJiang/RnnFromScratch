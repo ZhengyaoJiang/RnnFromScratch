{
 "cells": [
  {
   "cell_type": "code",
   "execution_count": 1,
   "metadata": {
    "collapsed": false,
    "deletable": true,
    "editable": true
   },
   "outputs": [],
   "source": [
    "import tensorflow as tf\n",
    "from tensorflow.contrib.rnn import BasicRNNCell"
   ]
  },
  {
   "cell_type": "code",
   "execution_count": 2,
   "metadata": {
    "collapsed": true,
    "deletable": true,
    "editable": true
   },
   "outputs": [],
   "source": [
    "class RNNCell(object):\n",
    "    def __init__(self, neuron_number):\n",
    "        self.neuron_number=neuron_number\n",
    "        \n",
    "    def __call__(self, inputs, state):\n",
    "        \"\"\"the one step unrolling\n",
    "        @param inputs: input from sequence [batch_size, feature_number]\n",
    "        @param state: output of last step [batch_size, neuron_number]\n",
    "        @return: the pair of (output, state), but they are the same in basic rnn\n",
    "        \"\"\"\n",
    "        with tf.variable_scope(\"RNN_Cell\"):\n",
    "            W = tf.get_variable(\"W\", shape=[inputs.get_shape()[1], self.neuron_number],\n",
    "                                initializer=tf.random_normal_initializer(0, 0.1), dtype=tf.float32)\n",
    "            U = tf.get_variable(\"U\", shape=[state.get_shape()[1], self.neuron_number],\n",
    "                                initializer=tf.random_normal_initializer(0, 0.1), dtype=tf.float32)\n",
    "            b = tf.get_variable(\"b\", shape=[self.neuron_number], dtype=tf.float32)\n",
    "        outputs = tf.tanh(tf.matmul(inputs, W) + tf.matmul(state, U) + b)\n",
    "        # Note that the this is row vector product here\n",
    "        return outputs, outputs\n",
    "        \n",
    "    def zero_state(self, batch_size):\n",
    "        return tf.zeros(shape=[batch_size, self.neuron_number])"
   ]
  },
  {
   "cell_type": "code",
   "execution_count": 3,
   "metadata": {
    "collapsed": false,
    "deletable": true,
    "editable": true
   },
   "outputs": [],
   "source": [
    "cell = RNNCell(12)\n",
    "cell.zero_state(1)\n",
    "a = tf.placeholder(shape=(None, None, 30), dtype=tf.float32)\n",
    "# a is input, [batch, time, neurons]"
   ]
  },
  {
   "cell_type": "code",
   "execution_count": 4,
   "metadata": {
    "collapsed": false,
    "deletable": true,
    "editable": true
   },
   "outputs": [],
   "source": [
    "with tf.variable_scope(\"RNN\") as rnn_sc:\n",
    "    state = cell.zero_state()\n",
    "    for i in range(10):\n",
    "        output, state =cell(a[:,i,:], state)\n",
    "        rnn_sc.reuse_variables()\n",
    "        # to reuse the parameters, need to reset the reuse attribute of variable scope"
   ]
  },
  {
   "cell_type": "markdown",
   "metadata": {
    "deletable": true,
    "editable": true
   },
   "source": [
    "## static unrolling\n",
    "* the unrolling is done by the python code\n",
    "  * which means that the total **steps of sequence** is fixed\n",
    "  * padding technique could be applied here to mimic dynamic sequence\n",
    "    * this is how tflearn do"
   ]
  },
  {
   "cell_type": "code",
   "execution_count": 5,
   "metadata": {
    "collapsed": false,
    "deletable": true,
    "editable": true
   },
   "outputs": [
    {
     "data": {
      "text/plain": [
       "<tf.Tensor 'RNN/Tanh_9:0' shape=(?, 12) dtype=float32>"
      ]
     },
     "execution_count": 5,
     "metadata": {},
     "output_type": "execute_result"
    }
   ],
   "source": [
    "output"
   ]
  },
  {
   "cell_type": "code",
   "execution_count": 6,
   "metadata": {
    "collapsed": false,
    "deletable": true,
    "editable": true
   },
   "outputs": [
    {
     "data": {
      "text/plain": [
       "<tf.Tensor 'RNN/Tanh_9:0' shape=(?, 12) dtype=float32>"
      ]
     },
     "execution_count": 6,
     "metadata": {},
     "output_type": "execute_result"
    }
   ],
   "source": [
    "state"
   ]
  },
  {
   "cell_type": "code",
   "execution_count": 4,
   "metadata": {
    "collapsed": false,
    "deletable": true,
    "editable": true
   },
   "outputs": [],
   "source": [
    "time_steps = tf.placeholder(shape=[], dtype=tf.int32)\n",
    "batch_size = tf.placeholder(shape=[], dtype=tf.int32)\n",
    "time = tf.constant(0, dtype=tf.int32, name=\"time\")\n",
    "output_ta = tf.TensorArray(size=time_steps, dtype=tf.float32)\n",
    "state = cell.zero_state(batch_size)\n",
    "#argument of zeros bould be a tensor\n",
    "\n",
    "def time_step(time, output_ta, state):\n",
    "    output, state = cell(a[:batch_size, time, :], state)\n",
    "    output_ta.write(time, output)\n",
    "    return time+1, output, state\n",
    "\n",
    "_, final_output_ta, final_state = tf.while_loop(\n",
    "    cond=lambda time, *_: time < time_steps,\n",
    "    body=time_step,\n",
    "    loop_vars=(time, output_ta, state))"
   ]
  },
  {
   "cell_type": "code",
   "execution_count": 5,
   "metadata": {
    "collapsed": false,
    "deletable": true,
    "editable": true
   },
   "outputs": [
    {
     "data": {
      "text/plain": [
       "<tf.Tensor 'while/Exit_1:0' shape=<unknown> dtype=float32>"
      ]
     },
     "execution_count": 5,
     "metadata": {},
     "output_type": "execute_result"
    }
   ],
   "source": [
    "final_output_ta"
   ]
  },
  {
   "cell_type": "code",
   "execution_count": 6,
   "metadata": {
    "collapsed": false
   },
   "outputs": [
    {
     "data": {
      "text/plain": [
       "<tf.Tensor 'while/Exit_2:0' shape=(?, 12) dtype=float32>"
      ]
     },
     "execution_count": 6,
     "metadata": {},
     "output_type": "execute_result"
    }
   ],
   "source": [
    "final_state"
   ]
  },
  {
   "cell_type": "code",
   "execution_count": null,
   "metadata": {
    "collapsed": true
   },
   "outputs": [],
   "source": []
  }
 ],
 "metadata": {
  "kernelspec": {
   "display_name": "Python 3",
   "language": "python",
   "name": "python3"
  },
  "language_info": {
   "codemirror_mode": {
    "name": "ipython",
    "version": 3
   },
   "file_extension": ".py",
   "mimetype": "text/x-python",
   "name": "python",
   "nbconvert_exporter": "python",
   "pygments_lexer": "ipython3",
   "version": "3.5.1"
  }
 },
 "nbformat": 4,
 "nbformat_minor": 2
}
